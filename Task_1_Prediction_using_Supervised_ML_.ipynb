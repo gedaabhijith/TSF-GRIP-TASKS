{
  "nbformat": 4,
  "nbformat_minor": 0,
  "metadata": {
    "colab": {
      "name": "Task 1 - Prediction using Supervised ML .ipynb",
      "provenance": [],
      "collapsed_sections": []
    },
    "kernelspec": {
      "name": "python3",
      "display_name": "Python 3"
    },
    "language_info": {
      "name": "python"
    }
  },
  "cells": [
    {
      "cell_type": "markdown",
      "metadata": {
        "id": "NnlZbFcuq3oY"
      },
      "source": [
        "#Author: Geda Sai Venkata Abhijith\n"
      ]
    },
    {
      "cell_type": "markdown",
      "metadata": {
        "id": "rwrxHeuIrS4I"
      },
      "source": [
        "#TASK 1 - Prediction using Supervised ML\n",
        "\n",
        "To Predict the percentage of a Student based on the no. of study hours they studied.\n",
        " "
      ]
    },
    {
      "cell_type": "markdown",
      "metadata": {
        "id": "2esAsNzVtYUA"
      },
      "source": [
        "Working using Python Language on Google Colab Notebook"
      ]
    },
    {
      "cell_type": "markdown",
      "metadata": {
        "id": "7mqp7-ktvFMp"
      },
      "source": [
        "**Import all the necessary modules for the task**\n"
      ]
    },
    {
      "cell_type": "code",
      "metadata": {
        "id": "ZYRAD6OVvNkc"
      },
      "source": [
        "import pandas as pd\n",
        "import numpy as np  \n",
        "import matplotlib.pyplot as plt  \n",
        "from sklearn.model_selection import train_test_split \n",
        "from sklearn.linear_model import LinearRegression  \n",
        "from sklearn import metrics  \n",
        "from sklearn.metrics import r2_score\n",
        "%matplotlib inline"
      ],
      "execution_count": null,
      "outputs": []
    },
    {
      "cell_type": "markdown",
      "metadata": {
        "id": "ocM93PB2vU9B"
      },
      "source": [
        "**Import the data from given link**"
      ]
    },
    {
      "cell_type": "code",
      "metadata": {
        "colab": {
          "base_uri": "https://localhost:8080/",
          "height": 362
        },
        "id": "IqQVT-q3vgv8",
        "outputId": "3b1e370d-cfa1-4cb5-fe41-e1f48d1904c9"
      },
      "source": [
        "data_url = \"http://bit.ly/w-data\"\n",
        "df = pd.read_csv(data_url) #read the data into a dataframe\n",
        "df.head(10) #diplay head of the data to check if data is correctly imported or not"
      ],
      "execution_count": null,
      "outputs": [
        {
          "output_type": "execute_result",
          "data": {
            "text/html": [
              "<div>\n",
              "<style scoped>\n",
              "    .dataframe tbody tr th:only-of-type {\n",
              "        vertical-align: middle;\n",
              "    }\n",
              "\n",
              "    .dataframe tbody tr th {\n",
              "        vertical-align: top;\n",
              "    }\n",
              "\n",
              "    .dataframe thead th {\n",
              "        text-align: right;\n",
              "    }\n",
              "</style>\n",
              "<table border=\"1\" class=\"dataframe\">\n",
              "  <thead>\n",
              "    <tr style=\"text-align: right;\">\n",
              "      <th></th>\n",
              "      <th>Hours</th>\n",
              "      <th>Scores</th>\n",
              "    </tr>\n",
              "  </thead>\n",
              "  <tbody>\n",
              "    <tr>\n",
              "      <th>0</th>\n",
              "      <td>2.5</td>\n",
              "      <td>21</td>\n",
              "    </tr>\n",
              "    <tr>\n",
              "      <th>1</th>\n",
              "      <td>5.1</td>\n",
              "      <td>47</td>\n",
              "    </tr>\n",
              "    <tr>\n",
              "      <th>2</th>\n",
              "      <td>3.2</td>\n",
              "      <td>27</td>\n",
              "    </tr>\n",
              "    <tr>\n",
              "      <th>3</th>\n",
              "      <td>8.5</td>\n",
              "      <td>75</td>\n",
              "    </tr>\n",
              "    <tr>\n",
              "      <th>4</th>\n",
              "      <td>3.5</td>\n",
              "      <td>30</td>\n",
              "    </tr>\n",
              "    <tr>\n",
              "      <th>5</th>\n",
              "      <td>1.5</td>\n",
              "      <td>20</td>\n",
              "    </tr>\n",
              "    <tr>\n",
              "      <th>6</th>\n",
              "      <td>9.2</td>\n",
              "      <td>88</td>\n",
              "    </tr>\n",
              "    <tr>\n",
              "      <th>7</th>\n",
              "      <td>5.5</td>\n",
              "      <td>60</td>\n",
              "    </tr>\n",
              "    <tr>\n",
              "      <th>8</th>\n",
              "      <td>8.3</td>\n",
              "      <td>81</td>\n",
              "    </tr>\n",
              "    <tr>\n",
              "      <th>9</th>\n",
              "      <td>2.7</td>\n",
              "      <td>25</td>\n",
              "    </tr>\n",
              "  </tbody>\n",
              "</table>\n",
              "</div>"
            ],
            "text/plain": [
              "   Hours  Scores\n",
              "0    2.5      21\n",
              "1    5.1      47\n",
              "2    3.2      27\n",
              "3    8.5      75\n",
              "4    3.5      30\n",
              "5    1.5      20\n",
              "6    9.2      88\n",
              "7    5.5      60\n",
              "8    8.3      81\n",
              "9    2.7      25"
            ]
          },
          "metadata": {
            "tags": []
          },
          "execution_count": 13
        }
      ]
    },
    {
      "cell_type": "markdown",
      "metadata": {
        "id": "XI-slWcFv3ee"
      },
      "source": [
        "**Check if there is any missing data in the given dataset**"
      ]
    },
    {
      "cell_type": "code",
      "metadata": {
        "colab": {
          "base_uri": "https://localhost:8080/"
        },
        "id": "36jNkuF6v7Rq",
        "outputId": "7549b867-e642-465c-aab6-a0571a4c7e88"
      },
      "source": [
        "df.isna().any()"
      ],
      "execution_count": null,
      "outputs": [
        {
          "output_type": "execute_result",
          "data": {
            "text/plain": [
              "Hours     False\n",
              "Scores    False\n",
              "dtype: bool"
            ]
          },
          "metadata": {
            "tags": []
          },
          "execution_count": 14
        }
      ]
    },
    {
      "cell_type": "markdown",
      "metadata": {
        "id": "CzvVaRKKwBCC"
      },
      "source": [
        "There are no empty cells. So we can now visualize the data to get better understanding of it.\n",
        "\n",
        "\n",
        "**Visualize given raw data in a plot**"
      ]
    },
    {
      "cell_type": "code",
      "metadata": {
        "colab": {
          "base_uri": "https://localhost:8080/",
          "height": 513
        },
        "id": "gKDgo2oNwJyu",
        "outputId": "ca29a939-3697-482c-eb32-a53ac5088599"
      },
      "source": [
        "plt.figure(figsize=(15, 8), facecolor='#aaaaaa')\n",
        "plt.xlim(0, 10)\n",
        "plt.ylim(0, 100)\n",
        "plt.scatter(df['Hours'], df['Scores'], label = \"datapoints\", color = \"#0000DD\")  \n",
        "plt.title('Hours vs Percentage')  \n",
        "plt.xlabel('Hours Studied')  \n",
        "plt.ylabel('Percentage Score')  \n",
        "plt.grid()\n",
        "plt.legend()\n",
        "plt.show()"
      ],
      "execution_count": null,
      "outputs": [
        {
          "output_type": "display_data",
          "data": {
            "image/png": "[encoded data removed]",
            "text/plain": [
              "<Figure size 1080x576 with 1 Axes>"
            ]
          },
          "metadata": {
            "tags": []
          }
        }
      ]
    },
    {
      "cell_type": "markdown",
      "metadata": {
        "id": "CPfeOZa7wRlM"
      },
      "source": [
        "From the above plot, it can be infered that there is a clear positive relation between the variables 'Hours Studies' and 'Percentage Score'."
      ]
    },
    {
      "cell_type": "markdown",
      "metadata": {
        "id": "EMTTQvWpwdF5"
      },
      "source": [
        "Split the data into attributes and labels"
      ]
    },
    {
      "cell_type": "code",
      "metadata": {
        "id": "afSN3hmmwgGK"
      },
      "source": [
        "X = df.iloc[:, :-1].values #Input value to linearRegression is a 2D array \n",
        "Y = df.iloc[:, 1].values"
      ],
      "execution_count": null,
      "outputs": []
    },
    {
      "cell_type": "code",
      "metadata": {
        "colab": {
          "base_uri": "https://localhost:8080/"
        },
        "id": "Byyy5DFrwi2A",
        "outputId": "4dfacc77-a7d0-4744-b8d1-3df9a4d14453"
      },
      "source": [
        "X[:5]"
      ],
      "execution_count": null,
      "outputs": [
        {
          "output_type": "execute_result",
          "data": {
            "text/plain": [
              "array([[2.5],\n",
              "       [5.1],\n",
              "       [3.2],\n",
              "       [8.5],\n",
              "       [3.5]])"
            ]
          },
          "metadata": {
            "tags": []
          },
          "execution_count": 17
        }
      ]
    },
    {
      "cell_type": "code",
      "metadata": {
        "colab": {
          "base_uri": "https://localhost:8080/"
        },
        "id": "9lKv-Sp4wlhI",
        "outputId": "9a5ebeb9-49c1-4f8e-ca24-54f009c7c740"
      },
      "source": [
        "Y[:5]"
      ],
      "execution_count": null,
      "outputs": [
        {
          "output_type": "execute_result",
          "data": {
            "text/plain": [
              "array([21, 47, 27, 75, 30])"
            ]
          },
          "metadata": {
            "tags": []
          },
          "execution_count": 18
        }
      ]
    },
    {
      "cell_type": "markdown",
      "metadata": {
        "id": "OJnBSulHwtvp"
      },
      "source": [
        "**Split the dataset into training and test sets and then train the model with training set**"
      ]
    },
    {
      "cell_type": "code",
      "metadata": {
        "id": "BfQkNqlhwwei"
      },
      "source": [
        "X_train, X_test, Y_train, Y_test = train_test_split(X, Y, test_size=0.2, random_state=0)"
      ],
      "execution_count": null,
      "outputs": []
    },
    {
      "cell_type": "code",
      "metadata": {
        "colab": {
          "base_uri": "https://localhost:8080/"
        },
        "id": "9JAwdqgWwz52",
        "outputId": "14dc0c76-08cd-4f22-956a-1d7dfe53259a"
      },
      "source": [
        "linearRegression = LinearRegression()  \n",
        "linearRegression.fit(X_train, Y_train) \n",
        "print(\"Training the model is completed\")"
      ],
      "execution_count": null,
      "outputs": [
        {
          "output_type": "stream",
          "text": [
            "Training the model is completed\n"
          ],
          "name": "stdout"
        }
      ]
    },
    {
      "cell_type": "markdown",
      "metadata": {
        "id": "VFlfydgHw-iQ"
      },
      "source": [
        "**Create a regression line for the train data**"
      ]
    },
    {
      "cell_type": "code",
      "metadata": {
        "id": "IFHUF16vxDSx"
      },
      "source": [
        "data_line = linearRegression.coef_*X+linearRegression.intercept_"
      ],
      "execution_count": null,
      "outputs": []
    },
    {
      "cell_type": "markdown",
      "metadata": {
        "id": "glC71DvNxUo2"
      },
      "source": [
        "**Plot the data around regression line**"
      ]
    },
    {
      "cell_type": "code",
      "metadata": {
        "colab": {
          "base_uri": "https://localhost:8080/",
          "height": 295
        },
        "id": "N2BpB5HtxXiK",
        "outputId": "a553b908-33c7-4b5f-b139-ee7a706f24b1"
      },
      "source": [
        "plt.figure(figsize=(7, 4), facecolor='#aaaaaa')\n",
        "plt.xlim(0, 10)\n",
        "plt.ylim(0, 100)\n",
        "plt.scatter(X, Y, label = \"Data Points\", color = \"#0000DD\")\n",
        "plt.plot(X, data_line, label = \"Regression line\", color = \"#0000DD\")\n",
        "plt.title(\"Linear Regression line for the data\")\n",
        "plt.xlabel('Hours Studied')  \n",
        "plt.ylabel('Percentage Score') \n",
        "plt.grid()\n",
        "plt.legend()\n",
        "plt.show()"
      ],
      "execution_count": null,
      "outputs": [
        {
          "output_type": "display_data",
          "data": {
            "image/png": "[encoded data removed]",
            "text/plain": [
              "<Figure size 504x288 with 1 Axes>"
            ]
          },
          "metadata": {
            "tags": []
          }
        }
      ]
    },
    {
      "cell_type": "markdown",
      "metadata": {
        "id": "8hGg-nZPxc2N"
      },
      "source": [
        "Test the trained regression model with test data"
      ]
    },
    {
      "cell_type": "code",
      "metadata": {
        "id": "CgL2iCPyxiun"
      },
      "source": [
        "Y_pred = linearRegression.predict(X_test) # Predicting the scores"
      ],
      "execution_count": null,
      "outputs": []
    },
    {
      "cell_type": "markdown",
      "metadata": {
        "id": "XU9KEJmBxn-F"
      },
      "source": [
        "**Tabulate actual and predicted values of test set**"
      ]
    },
    {
      "cell_type": "code",
      "metadata": {
        "colab": {
          "base_uri": "https://localhost:8080/",
          "height": 205
        },
        "id": "a2XRJSP-xrxz",
        "outputId": "5c5565d1-4aa3-49c3-c821-a3415747480e"
      },
      "source": [
        "pred_data = pd.DataFrame(list(zip(Y_test, Y_pred)),columns=['Actual','Predicted']) \n",
        "pred_data.head()"
      ],
      "execution_count": null,
      "outputs": [
        {
          "output_type": "execute_result",
          "data": {
            "text/html": [
              "<div>\n",
              "<style scoped>\n",
              "    .dataframe tbody tr th:only-of-type {\n",
              "        vertical-align: middle;\n",
              "    }\n",
              "\n",
              "    .dataframe tbody tr th {\n",
              "        vertical-align: top;\n",
              "    }\n",
              "\n",
              "    .dataframe thead th {\n",
              "        text-align: right;\n",
              "    }\n",
              "</style>\n",
              "<table border=\"1\" class=\"dataframe\">\n",
              "  <thead>\n",
              "    <tr style=\"text-align: right;\">\n",
              "      <th></th>\n",
              "      <th>Actual</th>\n",
              "      <th>Predicted</th>\n",
              "    </tr>\n",
              "  </thead>\n",
              "  <tbody>\n",
              "    <tr>\n",
              "      <th>0</th>\n",
              "      <td>20</td>\n",
              "      <td>16.884145</td>\n",
              "    </tr>\n",
              "    <tr>\n",
              "      <th>1</th>\n",
              "      <td>27</td>\n",
              "      <td>33.732261</td>\n",
              "    </tr>\n",
              "    <tr>\n",
              "      <th>2</th>\n",
              "      <td>69</td>\n",
              "      <td>75.357018</td>\n",
              "    </tr>\n",
              "    <tr>\n",
              "      <th>3</th>\n",
              "      <td>30</td>\n",
              "      <td>26.794801</td>\n",
              "    </tr>\n",
              "    <tr>\n",
              "      <th>4</th>\n",
              "      <td>62</td>\n",
              "      <td>60.491033</td>\n",
              "    </tr>\n",
              "  </tbody>\n",
              "</table>\n",
              "</div>"
            ],
            "text/plain": [
              "   Actual  Predicted\n",
              "0      20  16.884145\n",
              "1      27  33.732261\n",
              "2      69  75.357018\n",
              "3      30  26.794801\n",
              "4      62  60.491033"
            ]
          },
          "metadata": {
            "tags": []
          },
          "execution_count": 25
        }
      ]
    },
    {
      "cell_type": "markdown",
      "metadata": {
        "id": "KJc1MvP3xwS2"
      },
      "source": [
        "**Plot Predicted values against Actual data to visualize the difference**"
      ]
    },
    {
      "cell_type": "code",
      "metadata": {
        "colab": {
          "base_uri": "https://localhost:8080/",
          "height": 295
        },
        "id": "vw7Wfs58x0u6",
        "outputId": "1ee0aa9d-6ed8-4464-cfa6-6a6e7327c9d4"
      },
      "source": [
        "plt.figure(figsize=(7, 4), facecolor='#aaaaaa')\n",
        "plt.xlim(0, 10)\n",
        "plt.ylim(0, 100)\n",
        "\n",
        "plt.scatter(X_test, Y_test, c='#00f',  label='Actual data')\n",
        "plt.scatter(X_test, Y_pred, c='#f00',  label='Predicted values')\n",
        "plt.plot(X, data_line, label = \"Regression line\", color = \"#555\")\n",
        "\n",
        "plt.title(\"Plot of predicted vs actual data\")\n",
        "plt.xlabel('Hours Studied')  \n",
        "plt.ylabel('Percentage Score') \n",
        "plt.grid()\n",
        "plt.legend()\n",
        "plt.show()"
      ],
      "execution_count": null,
      "outputs": [
        {
          "output_type": "display_data",
          "data": {
            "image/png": "[encoded data removed]",
            "text/plain": [
              "<Figure size 504x288 with 1 Axes>"
            ]
          },
          "metadata": {
            "tags": []
          }
        }
      ]
    },
    {
      "cell_type": "markdown",
      "metadata": {
        "id": "VkwpAPLvx73G"
      },
      "source": [
        "Evaluating the model"
      ]
    },
    {
      "cell_type": "code",
      "metadata": {
        "colab": {
          "base_uri": "https://localhost:8080/"
        },
        "id": "GTZMzYALx9w_",
        "outputId": "5964530e-5fc6-49e9-a465-54a3afb0c6c8"
      },
      "source": [
        "print('Mean Absolute Error:', metrics.mean_absolute_error(Y_test, Y_pred)) \n",
        "print('r2 score           : {}'.format(r2_score(Y_test, Y_pred)))"
      ],
      "execution_count": null,
      "outputs": [
        {
          "output_type": "stream",
          "text": [
            "Mean Absolute Error: 4.183859899002982\n",
            "r2 score           : 0.9454906892105354\n"
          ],
          "name": "stdout"
        }
      ]
    },
    {
      "cell_type": "markdown",
      "metadata": {
        "id": "ywBBqwK3yEF5"
      },
      "source": [
        "##Question: find percent if number of hours = 9.25\n"
      ]
    },
    {
      "cell_type": "code",
      "metadata": {
        "colab": {
          "base_uri": "https://localhost:8080/"
        },
        "id": "Bnn6CeDPyHs3",
        "outputId": "3e84d2b3-a2f2-4c7e-8974-3c7a4da364c2"
      },
      "source": [
        "hours = 9.25\n",
        "number_of_hours = linearRegression.predict([[hours]])\n",
        "print(\"No of Hours = {}\".format(hours))\n",
        "print(\"Predicted Score = {}\".format(number_of_hours[0]))"
      ],
      "execution_count": null,
      "outputs": [
        {
          "output_type": "stream",
          "text": [
            "No of Hours = 9.25\n",
            "Predicted Score = 93.69173248737539\n"
          ],
          "name": "stdout"
        }
      ]
    },
    {
      "cell_type": "code",
      "metadata": {
        "id": "ljK-Nz76yK0g"
      },
      "source": [
        ""
      ],
      "execution_count": null,
      "outputs": []
    }
  ]
}